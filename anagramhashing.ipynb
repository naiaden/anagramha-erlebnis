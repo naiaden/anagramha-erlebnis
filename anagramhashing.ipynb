{
 "cells": [
  {
   "cell_type": "markdown",
   "metadata": {},
   "source": [
    "# Character confusion versus focus word-based correction"
   ]
  },
  {
   "cell_type": "markdown",
   "metadata": {},
   "source": [
    "The function to obtain an anagram hash for a word type is $$\n",
    "\\operatorname{Key}(w) = \\sum_{i=1}^{|w|}f(c_i)^n,\n",
    "$$ with $f$ being a particular numerical value assigned to each character in the alphabet $A$, and $c_1, \\ldots, c_{|w|}$ the actual characters in the input string $w$.\n",
    "\n",
    "In Reynaert (2010) the numerical value for a word string is obtained by summing the code value, e.g. ISO Latin-1, of each character in the string raised to a power $n$, where $n$ is empirically set at 5."
   ]
  },
  {
   "cell_type": "markdown",
   "metadata": {},
   "source": [
    "The maximum Levenshtein distance. Or, the $k$ character differences that the system will search for."
   ]
  },
  {
   "cell_type": "code",
   "execution_count": 1,
   "metadata": {
    "collapsed": true
   },
   "outputs": [],
   "source": [
    "distance_k = 2"
   ]
  },
  {
   "cell_type": "markdown",
   "metadata": {},
   "source": [
    "## Sequential focus word-based approach"
   ]
  },
  {
   "cell_type": "code",
   "execution_count": 18,
   "metadata": {},
   "outputs": [],
   "source": [
    "from collections import defaultdict\n",
    "LexiconHash = defaultdict(set)\n",
    "Alphabet = {chr(x): x for x in range(97,123)}"
   ]
  },
  {
   "cell_type": "code",
   "execution_count": 8,
   "metadata": {},
   "outputs": [],
   "source": [
    "focus_word = 'molensteen'"
   ]
  },
  {
   "cell_type": "code",
   "execution_count": 11,
   "metadata": {
    "collapsed": true
   },
   "outputs": [],
   "source": [
    "power_n = 5\n",
    "\n",
    "def key(w):\n",
    "    result = 0\n",
    "    for ci in w:\n",
    "        result += Alphabet[ci]**power_n\n",
    "    return result"
   ]
  },
  {
   "cell_type": "code",
   "execution_count": 19,
   "metadata": {},
   "outputs": [],
   "source": [
    "for w in ['steenmolen', 'fietslamp', 'kaas', 'kans', 'krans', 'kind', 'kits', 'eend', 'deen']:\n",
    "    LexiconHash[key(w)].add(w)"
   ]
  },
  {
   "cell_type": "code",
   "execution_count": 12,
   "metadata": {},
   "outputs": [
    {
     "data": {
      "text/plain": [
       "151787591822"
      ]
     },
     "execution_count": 12,
     "metadata": {},
     "output_type": "execute_result"
    }
   ],
   "source": [
    "key('steenmolen')"
   ]
  },
  {
   "cell_type": "code",
   "execution_count": 20,
   "metadata": {},
   "outputs": [
    {
     "name": "stdout",
     "output_type": "stream",
     "text": [
      "defaultdict(<class 'set'>, {151787591822: {'steenmolen'}, 131720990015: {'fietslamp'}, 51313769696: {'kaas'}, 58831529439: {'kans'}, 78085675263: {'krans'}, 52893432932: {'kind'}, 67905321383: {'kits'}, 47125301002: {'deen', 'eend'}})\n"
     ]
    }
   ],
   "source": [
    "print(LexiconHash)"
   ]
  }
 ],
 "metadata": {
  "kernelspec": {
   "display_name": "Python 3",
   "language": "python",
   "name": "python3"
  },
  "language_info": {
   "codemirror_mode": {
    "name": "ipython",
    "version": 3
   },
   "file_extension": ".py",
   "mimetype": "text/x-python",
   "name": "python",
   "nbconvert_exporter": "python",
   "pygments_lexer": "ipython3",
   "version": "3.6.4"
  }
 },
 "nbformat": 4,
 "nbformat_minor": 2
}
